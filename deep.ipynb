{
  "nbformat": 4,
  "nbformat_minor": 0,
  "metadata": {
    "colab": {
      "provenance": []
    },
    "kernelspec": {
      "name": "python3",
      "display_name": "Python 3"
    },
    "language_info": {
      "name": "python"
    }
  },
  "cells": [
    {
      "cell_type": "code",
      "source": [
        "import tensorflow as tf\n",
        "from tensorflow import keras\n",
        "from tensorflow.keras import layers\n",
        "import matplotlib.pyplot as plt\n",
        "import numpy as np\n",
        "import tifffile as tiff\n",
        "import os\n",
        "import cv2\n",
        "from skimage.transform import resize\n",
        "from sklearn.preprocessing import LabelEncoder\n",
        "import os\n",
        "from PIL import Image\n",
        "from keras.layers import Dense,Flatten,Dropout\n",
        "from keras.callbacks import EarlyStopping\n",
        "from sklearn.preprocessing import LabelEncoder\n",
        "from sklearn.model_selection import train_test_split\n",
        "import tensorflow as tf\n",
        "from keras import regularizers\n",
        "from tensorflow.keras.preprocessing.image import ImageDataGenerator\n",
        "from tensorflow.keras.applications import EfficientNetB0\n",
        "from tensorflow.keras.applications.inception_v3 import InceptionV3\n",
        "from tensorflow.keras.applications.vgg16 import VGG16\n",
        "from keras.models import Sequential\n",
        "from keras.applications.vgg16 import preprocess_input\n",
        "from tensorflow.keras.applications.resnet50 import ResNet50\n",
        "from tensorflow.keras.applications.mobilenet_v2 import MobileNetV2"
      ],
      "metadata": {
        "id": "NwBkfZtuFU97"
      },
      "execution_count": 3,
      "outputs": []
    },
    {
      "cell_type": "code",
      "source": [
        "from google.colab import drive\n",
        "drive.mount('/content/drive')"
      ],
      "metadata": {
        "colab": {
          "base_uri": "https://localhost:8080/"
        },
        "id": "jWYvlHzKFYPP",
        "outputId": "762e987d-c44e-4a8c-ac9c-b72ce8f3ee13"
      },
      "execution_count": 4,
      "outputs": [
        {
          "output_type": "stream",
          "name": "stdout",
          "text": [
            "Drive already mounted at /content/drive; to attempt to forcibly remount, call drive.mount(\"/content/drive\", force_remount=True).\n"
          ]
        }
      ]
    },
    {
      "cell_type": "code",
      "source": [
        "train_path='/content/drive/MyDrive/Assignment Deep Learning/Train'\n",
        "test_path='/content/drive/MyDrive/Assignment Deep Learning/Test '"
      ],
      "metadata": {
        "id": "xyutLxSjFjU_"
      },
      "execution_count": 5,
      "outputs": []
    },
    {
      "cell_type": "code",
      "source": [
        "batch_size = 32\n",
        "img_width=224\n",
        "img_height=224\n",
        "img_size=128\n",
        "epochs=50\n",
        "NUM_CLASSES=2"
      ],
      "metadata": {
        "id": "MHO7lknyFoVE"
      },
      "execution_count": 6,
      "outputs": []
    },
    {
      "cell_type": "code",
      "source": [
        "\n",
        "data_generator = ImageDataGenerator(\n",
        "    rescale = 1. / 255,\n",
        "    shear_range = 0.2,\n",
        "    zoom_range = 0.2,\n",
        "    horizontal_flip = True,\n",
        "    vertical_flip = True,\n",
        "    rotation_range = 180,\n",
        "    width_shift_range = 0.2,\n",
        "    height_shift_range = 0.2,\n",
        "    validation_split = 0.2)\n",
        "\n",
        "train_generator = data_generator.flow_from_directory(\n",
        "    '/content/drive/MyDrive/Assignment Deep Learning/Train',\n",
        "    target_size =(img_width, img_height),\n",
        "    batch_size = batch_size,\n",
        "    shuffle = True,\n",
        "    class_mode = 'categorical',\n",
        "    seed = 42,\n",
        "    subset='training')\n",
        "\n",
        "validation_generator = data_generator.flow_from_directory(\n",
        "    '/content/drive/MyDrive/Assignment Deep Learning/Test',\n",
        "    target_size =(img_width, img_height),\n",
        "    batch_size = batch_size,\n",
        "    shuffle = True,\n",
        "    class_mode = 'categorical',\n",
        "    seed = 42,\n",
        "    subset='validation')"
      ],
      "metadata": {
        "colab": {
          "base_uri": "https://localhost:8080/"
        },
        "id": "TUrGjsViFr86",
        "outputId": "1a11e784-0ae9-490c-a9b8-2f9430a87213"
      },
      "execution_count": 7,
      "outputs": [
        {
          "output_type": "stream",
          "name": "stdout",
          "text": [
            "Found 84 images belonging to 1 classes.\n",
            "Found 4 images belonging to 1 classes.\n"
          ]
        }
      ]
    },
    {
      "cell_type": "code",
      "source": [
        "import numpy as np\n",
        "from PIL import Image\n",
        "import glob\n",
        "import os\n",
        "\n",
        "def load_images(root_folder, folder_names, target_size=(128, 128)):\n",
        "    images = []\n",
        "    labels = []\n",
        "\n",
        "    for label_counter, folder_name in enumerate(folder_names):\n",
        "        folder_path = os.path.join(root_folder, folder_name)\n",
        "\n",
        "        if not os.path.isdir(folder_path):\n",
        "            continue\n",
        "\n",
        "        image_paths = glob.glob(os.path.join(folder_path, '*.jpg')) + glob.glob(os.path.join(folder_path, '*.png'))\n",
        "\n",
        "        for img_path in sorted(image_paths):\n",
        "            with Image.open(img_path) as img:\n",
        "                img = img.resize(target_size)\n",
        "                img_array = np.array(img)\n",
        "                images.append(img_array)\n",
        "                labels.append(label_counter)\n",
        "\n",
        "    return np.array(images), np.array(labels)\n"
      ],
      "metadata": {
        "id": "g18FokDBWcO6"
      },
      "execution_count": 8,
      "outputs": []
    },
    {
      "cell_type": "code",
      "source": [
        "selected_folders  = ['Class (1)', 'Class (2)']"
      ],
      "metadata": {
        "id": "lcEBm5GeXfHY"
      },
      "execution_count": 9,
      "outputs": []
    },
    {
      "cell_type": "code",
      "source": [
        "X_train, y_train = load_images(train_path, selected_folders)\n",
        "X_test, y_test = load_images(test_path, selected_folders)"
      ],
      "metadata": {
        "id": "JYpnWi6eXpqN"
      },
      "execution_count": 10,
      "outputs": []
    },
    {
      "cell_type": "code",
      "source": [
        "print(\"X_train\", X_train.shape)\n",
        "print(\"y_train\", y_train.shape)"
      ],
      "metadata": {
        "colab": {
          "base_uri": "https://localhost:8080/"
        },
        "id": "Hg6WmQNOX8OJ",
        "outputId": "490553b4-8864-4d24-ca4d-2cb9b2e6796c"
      },
      "execution_count": 11,
      "outputs": [
        {
          "output_type": "stream",
          "name": "stdout",
          "text": [
            "X_train (104, 128, 128, 3)\n",
            "y_train (104,)\n"
          ]
        }
      ]
    },
    {
      "cell_type": "code",
      "source": [
        "import tqdm\n",
        "train_generator.reset()\n",
        "X_train, y_train = next(train_generator)\n",
        "for i in tqdm.tqdm(range(int(train_generator.n/batch_size)-1)):\n",
        "  img, label = next(train_generator)\n",
        "  X_train = np.append(X_train, img, axis=0 )\n",
        "  y_train = np.append(y_train, label, axis=0)\n",
        "print(X_train.shape, y_train.shape)"
      ],
      "metadata": {
        "colab": {
          "base_uri": "https://localhost:8080/"
        },
        "id": "90PWZaMxGvEj",
        "outputId": "cf7a9dc7-c5f5-42cf-ee1f-2b6411861bbd"
      },
      "execution_count": 12,
      "outputs": [
        {
          "output_type": "stream",
          "name": "stderr",
          "text": [
            "100%|██████████| 1/1 [00:00<00:00,  2.05it/s]"
          ]
        },
        {
          "output_type": "stream",
          "name": "stdout",
          "text": [
            "(64, 224, 224, 3) (64, 1)\n"
          ]
        },
        {
          "output_type": "stream",
          "name": "stderr",
          "text": [
            "\n"
          ]
        }
      ]
    },
    {
      "cell_type": "code",
      "source": [
        "X_test, y_test = next(validation_generator)\n",
        "for i in tqdm.tqdm(range(int(train_generator.n/batch_size)-1)):\n",
        "  img, label = next(train_generator)\n",
        "  X_train = np.append(X_train, img, axis=0 )\n",
        "  y_train = np.append(y_train, label, axis=0)\n",
        "print(X_train.shape, y_train.shape)"
      ],
      "metadata": {
        "colab": {
          "base_uri": "https://localhost:8080/"
        },
        "id": "U7d0-EoYG7St",
        "outputId": "99779070-7031-4526-b8d5-ad1877537a0c"
      },
      "execution_count": 13,
      "outputs": [
        {
          "output_type": "stream",
          "name": "stderr",
          "text": [
            "100%|██████████| 1/1 [00:00<00:00,  2.93it/s]"
          ]
        },
        {
          "output_type": "stream",
          "name": "stdout",
          "text": [
            "(84, 224, 224, 3) (84, 1)\n"
          ]
        },
        {
          "output_type": "stream",
          "name": "stderr",
          "text": [
            "\n"
          ]
        }
      ]
    },
    {
      "cell_type": "code",
      "source": [
        "from tensorflow.keras.preprocessing.image import ImageDataGenerator\n",
        "\n",
        "# Create an ImageDataGenerator with desired augmentation parameters\n",
        "datagen = ImageDataGenerator(\n",
        "    rotation_range=30,\n",
        "    width_shift_range=0.1,\n",
        "    height_shift_range=0.1,\n",
        "    shear_range=0.2,\n",
        "    zoom_range=0.2,\n",
        "    horizontal_flip=True,\n",
        "    fill_mode='nearest'\n",
        ")\n",
        "\n",
        "# Function to apply augmentation twice to each dataset\n",
        "def augment_dataset(dataset):\n",
        "    augmented_data = []\n",
        "    for img in dataset:\n",
        "        img = np.expand_dims(img, axis=0)  # Expanding dimensions for batch size\n",
        "        for _ in range(1):  # Apply augmentation twice\n",
        "            for batch in datagen.flow(img, batch_size=1):\n",
        "                augmented_data.append(np.squeeze(batch))  # Remove the batch dimension\n",
        "                break  # Stop the loop after one augmented image\n",
        "    return np.array(augmented_data)"
      ],
      "metadata": {
        "id": "5so2gxWsHC1P"
      },
      "execution_count": 14,
      "outputs": []
    },
    {
      "cell_type": "code",
      "source": [
        "\n",
        "X_train_augmented = augment_dataset(X_train)\n",
        "X_test_augmented = augment_dataset(X_test)\n",
        "\n",
        "y_train_augmented = np.repeat(y_train, 1, axis=0)\n",
        "y_test_augmented = np.repeat(y_test, 1, axis=0)"
      ],
      "metadata": {
        "id": "0M3tqOUoHQZs"
      },
      "execution_count": 15,
      "outputs": []
    },
    {
      "cell_type": "code",
      "source": [
        "from sklearn.utils import shuffle\n",
        "\n",
        "\n",
        "X_train_combined = np.concatenate((X_train, X_train_augmented))\n",
        "y_train_combined = np.concatenate((y_train, y_train_augmented))\n",
        "\n",
        "X_test_combined = np.concatenate((X_test, X_test_augmented))\n",
        "y_test_combined = np.concatenate((y_test, y_test_augmented))\n",
        "\n",
        "\n",
        "\n",
        "X_train_combined, y_train_combined = shuffle(X_train_combined, y_train_combined, random_state=42)\n",
        "X_test_combined, y_test_combined = shuffle(X_test_combined, y_test_combined, random_state=42)"
      ],
      "metadata": {
        "id": "Y9R8idsXHTbx"
      },
      "execution_count": 16,
      "outputs": []
    },
    {
      "cell_type": "code",
      "source": [
        "from keras.applications import vgg19\n",
        "\n",
        "\n",
        "img_rows, img_cols = 224, 224\n",
        "vgg = vgg19.VGG19(weights = 'imagenet',\n",
        "                 include_top = False,\n",
        "                 input_shape = (img_rows, img_cols, 3))\n",
        "\n",
        "for layer in vgg.layers:\n",
        "     layer.trainable = False\n",
        "\n",
        "\n",
        "for (i,layer) in enumerate(vgg.layers):\n",
        "    print(str(i) + \" \"+ layer.__class__.__name__, layer.trainable)"
      ],
      "metadata": {
        "colab": {
          "base_uri": "https://localhost:8080/"
        },
        "id": "j10mKV0sHYd7",
        "outputId": "ca7f1a17-1b6d-4abf-d610-c0f55d6857ff"
      },
      "execution_count": 17,
      "outputs": [
        {
          "output_type": "stream",
          "name": "stdout",
          "text": [
            "Downloading data from https://storage.googleapis.com/tensorflow/keras-applications/vgg19/vgg19_weights_tf_dim_ordering_tf_kernels_notop.h5\n",
            "80134624/80134624 [==============================] - 0s 0us/step\n",
            "0 InputLayer False\n",
            "1 Conv2D False\n",
            "2 Conv2D False\n",
            "3 MaxPooling2D False\n",
            "4 Conv2D False\n",
            "5 Conv2D False\n",
            "6 MaxPooling2D False\n",
            "7 Conv2D False\n",
            "8 Conv2D False\n",
            "9 Conv2D False\n",
            "10 Conv2D False\n",
            "11 MaxPooling2D False\n",
            "12 Conv2D False\n",
            "13 Conv2D False\n",
            "14 Conv2D False\n",
            "15 Conv2D False\n",
            "16 MaxPooling2D False\n",
            "17 Conv2D False\n",
            "18 Conv2D False\n",
            "19 Conv2D False\n",
            "20 Conv2D False\n",
            "21 MaxPooling2D False\n"
          ]
        }
      ]
    },
    {
      "cell_type": "code",
      "source": [
        "from keras.models import Sequential\n",
        "from keras.layers import Dense, Dropout, Activation, Flatten, GlobalAveragePooling2D\n",
        "from keras.layers import Conv2D, MaxPooling2D, ZeroPadding2D\n",
        "\n",
        "from keras.models import Model\n",
        "def lw(bottom_model, num_classes):\n",
        "\n",
        "\n",
        "    top_model = bottom_model.output\n",
        "    top_model = GlobalAveragePooling2D()(top_model)\n",
        "    top_model = Dense(1024,activation='relu')(top_model)\n",
        "    top_model = Dropout(0.1)(top_model)\n",
        "    top_model = Dense(1024,activation='relu')(top_model)\n",
        "    top_model = Dropout(0.1)(top_model)\n",
        "    top_model = Dense(1024,activation='relu')(top_model)\n",
        "    top_model = Dropout(0.1)(top_model)\n",
        "    top_model = Dense(num_classes,activation='sigmoid')(top_model)\n",
        "    return top_model"
      ],
      "metadata": {
        "id": "NGoqQ-I9Hfw3"
      },
      "execution_count": 18,
      "outputs": []
    },
    {
      "cell_type": "code",
      "source": [
        "from keras.models import Sequential\n",
        "from keras.layers import Dense, Dropout, Activation, Flatten, GlobalAveragePooling2D\n",
        "from keras.layers import Conv2D, MaxPooling2D, ZeroPadding2D\n",
        "\n",
        "from keras.models import Model\n",
        "\n",
        "\n",
        "num_classe = 1\n",
        "\n",
        "FC_Head = lw(vgg, num_classe)\n",
        "\n",
        "model = Model(inputs = vgg.input, outputs = FC_Head)"
      ],
      "metadata": {
        "id": "RzWY3UQKIPEe"
      },
      "execution_count": 19,
      "outputs": []
    },
    {
      "cell_type": "code",
      "source": [
        "print(model.summary())"
      ],
      "metadata": {
        "colab": {
          "base_uri": "https://localhost:8080/"
        },
        "id": "CUqQ_LKAIUze",
        "outputId": "e736cfc6-3e52-48a6-c507-4ac41f35d414"
      },
      "execution_count": 20,
      "outputs": [
        {
          "output_type": "stream",
          "name": "stdout",
          "text": [
            "Model: \"model\"\n",
            "_________________________________________________________________\n",
            " Layer (type)                Output Shape              Param #   \n",
            "=================================================================\n",
            " input_1 (InputLayer)        [(None, 224, 224, 3)]     0         \n",
            "                                                                 \n",
            " block1_conv1 (Conv2D)       (None, 224, 224, 64)      1792      \n",
            "                                                                 \n",
            " block1_conv2 (Conv2D)       (None, 224, 224, 64)      36928     \n",
            "                                                                 \n",
            " block1_pool (MaxPooling2D)  (None, 112, 112, 64)      0         \n",
            "                                                                 \n",
            " block2_conv1 (Conv2D)       (None, 112, 112, 128)     73856     \n",
            "                                                                 \n",
            " block2_conv2 (Conv2D)       (None, 112, 112, 128)     147584    \n",
            "                                                                 \n",
            " block2_pool (MaxPooling2D)  (None, 56, 56, 128)       0         \n",
            "                                                                 \n",
            " block3_conv1 (Conv2D)       (None, 56, 56, 256)       295168    \n",
            "                                                                 \n",
            " block3_conv2 (Conv2D)       (None, 56, 56, 256)       590080    \n",
            "                                                                 \n",
            " block3_conv3 (Conv2D)       (None, 56, 56, 256)       590080    \n",
            "                                                                 \n",
            " block3_conv4 (Conv2D)       (None, 56, 56, 256)       590080    \n",
            "                                                                 \n",
            " block3_pool (MaxPooling2D)  (None, 28, 28, 256)       0         \n",
            "                                                                 \n",
            " block4_conv1 (Conv2D)       (None, 28, 28, 512)       1180160   \n",
            "                                                                 \n",
            " block4_conv2 (Conv2D)       (None, 28, 28, 512)       2359808   \n",
            "                                                                 \n",
            " block4_conv3 (Conv2D)       (None, 28, 28, 512)       2359808   \n",
            "                                                                 \n",
            " block4_conv4 (Conv2D)       (None, 28, 28, 512)       2359808   \n",
            "                                                                 \n",
            " block4_pool (MaxPooling2D)  (None, 14, 14, 512)       0         \n",
            "                                                                 \n",
            " block5_conv1 (Conv2D)       (None, 14, 14, 512)       2359808   \n",
            "                                                                 \n",
            " block5_conv2 (Conv2D)       (None, 14, 14, 512)       2359808   \n",
            "                                                                 \n",
            " block5_conv3 (Conv2D)       (None, 14, 14, 512)       2359808   \n",
            "                                                                 \n",
            " block5_conv4 (Conv2D)       (None, 14, 14, 512)       2359808   \n",
            "                                                                 \n",
            " block5_pool (MaxPooling2D)  (None, 7, 7, 512)         0         \n",
            "                                                                 \n",
            " global_average_pooling2d (  (None, 512)               0         \n",
            " GlobalAveragePooling2D)                                         \n",
            "                                                                 \n",
            " dense (Dense)               (None, 1024)              525312    \n",
            "                                                                 \n",
            " dropout (Dropout)           (None, 1024)              0         \n",
            "                                                                 \n",
            " dense_1 (Dense)             (None, 1024)              1049600   \n",
            "                                                                 \n",
            " dropout_1 (Dropout)         (None, 1024)              0         \n",
            "                                                                 \n",
            " dense_2 (Dense)             (None, 1024)              1049600   \n",
            "                                                                 \n",
            " dropout_2 (Dropout)         (None, 1024)              0         \n",
            "                                                                 \n",
            " dense_3 (Dense)             (None, 1)                 1025      \n",
            "                                                                 \n",
            "=================================================================\n",
            "Total params: 22649921 (86.40 MB)\n",
            "Trainable params: 2625537 (10.02 MB)\n",
            "Non-trainable params: 20024384 (76.39 MB)\n",
            "_________________________________________________________________\n",
            "None\n"
          ]
        }
      ]
    },
    {
      "cell_type": "code",
      "source": [
        "from tensorflow.keras.models import Model\n",
        "import tensorflow as tf\n",
        "from tensorflow.keras import backend as K\n",
        "metrics = [\n",
        "        'accuracy',\n",
        "        tf.keras.metrics.AUC(),\n",
        "        tf.keras.metrics.Recall(),\n",
        "        tf.keras.metrics.Precision(),\n",
        "        tf.keras.metrics.SpecificityAtSensitivity(0.5),\n",
        "        tf.keras.metrics.SensitivityAtSpecificity(0.5),\n",
        "        tf.keras.metrics.FalseNegatives(),\n",
        "        tf.keras.metrics.FalsePositives(),\n",
        "        tf.keras.metrics.TrueNegatives(),\n",
        "        tf.keras.metrics.TruePositives(),]"
      ],
      "metadata": {
        "id": "NOvRLBXMIdC2"
      },
      "execution_count": 21,
      "outputs": []
    },
    {
      "cell_type": "code",
      "source": [
        "model.compile(optimizer = tf.keras.optimizers.Adam(learning_rate=0.1), loss = 'binary_crossentropy',metrics = metrics)"
      ],
      "metadata": {
        "id": "PzG3hur3IfB1"
      },
      "execution_count": 22,
      "outputs": []
    },
    {
      "cell_type": "code",
      "source": [
        "y_train.shape"
      ],
      "metadata": {
        "colab": {
          "base_uri": "https://localhost:8080/"
        },
        "id": "b1OnqhzWUP-g",
        "outputId": "3e568a5b-75f4-4185-cfc6-a5e264b8fb7e"
      },
      "execution_count": 23,
      "outputs": [
        {
          "output_type": "execute_result",
          "data": {
            "text/plain": [
              "(84, 1)"
            ]
          },
          "metadata": {},
          "execution_count": 23
        }
      ]
    },
    {
      "cell_type": "code",
      "source": [
        "callbacks = [\n",
        "    tf.keras.callbacks.ModelCheckpoint('plants_vgg19_not-fined.h5',save_best_only=True),\n",
        "    tf.keras.callbacks.EarlyStopping(\n",
        "    monitor='val_loss',patience=3\n",
        "    )\n",
        "]\n",
        "history = model.fit(X_train_combined,y_train_combined.astype('float32'),epochs=10,batch_size=32,validation_split=0.2,callbacks=callbacks)"
      ],
      "metadata": {
        "colab": {
          "base_uri": "https://localhost:8080/"
        },
        "id": "mHl1k0owIiRl",
        "outputId": "ef95e080-44c6-4a91-ceed-2c031ef0c420"
      },
      "execution_count": 24,
      "outputs": [
        {
          "output_type": "stream",
          "name": "stdout",
          "text": [
            "Epoch 1/10\n",
            "5/5 [==============================] - ETA: 0s - loss: 0.1558 - accuracy: 0.9403 - auc: 0.0000e+00 - recall: 0.9403 - precision: 1.0000 - specificity_at_sensitivity: 0.0000e+00 - sensitivity_at_specificity: 0.0000e+00 - false_negatives: 8.0000 - false_positives: 0.0000e+00 - true_negatives: 0.0000e+00 - true_positives: 126.0000 "
          ]
        },
        {
          "output_type": "stream",
          "name": "stderr",
          "text": [
            "/usr/local/lib/python3.10/dist-packages/keras/src/engine/training.py:3079: UserWarning: You are saving your model as an HDF5 file via `model.save()`. This file format is considered legacy. We recommend using instead the native Keras format, e.g. `model.save('my_model.keras')`.\n",
            "  saving_api.save_model(\n"
          ]
        },
        {
          "output_type": "stream",
          "name": "stdout",
          "text": [
            "\b\b\b\b\b\b\b\b\b\b\b\b\b\b\b\b\b\b\b\b\b\b\b\b\b\b\b\b\b\b\b\b\b\b\b\b\b\b\b\b\b\b\b\b\b\b\b\b\b\b\b\b\b\b\b\b\b\b\b\b\b\b\b\b\b\b\b\b\b\b\b\b\b\b\b\b\b\b\b\b\b\b\b\b\b\b\b\b\b\b\b\b\b\b\b\b\b\b\b\b\b\b\b\b\b\b\b\b\b\b\b\b\b\b\b\b\b\b\b\b\b\b\b\b\b\b\b\b\b\b\b\b\b\b\b\b\b\b\b\b\b\b\b\b\b\b\b\b\b\b\b\b\b\b\b\b\b\b\b\b\b\b\b\b\b\b\b\b\b\b\b\b\b\b\b\b\b\b\b\b\b\b\b\b\b\b\b\b\b\b\b\b\b\b\b\b\b\b\b\b\b\b\b\b\b\b\b\b\b\b\b\b\b\b\b\b\b\b\b\b\b\b\b\b\b\b\b\b\b\b\b\b\b\b\b\b\b\b\b\b\b\b\b\b\b\b\b\b\b\b\b\b\b\b\b\b\b\b\b\b\b\b\b\b\b\b\b\b\b\b\b\b\b\b\b\b\b\b\b\b\b\b\b\b\b\b\b\b\b\b\b\b\b\b\b\b\b\b\b\b\b\b\b\b\b\b\b\b\b\b\b\b\b\b\b\b\b\b\b\b\b\b\b\b\b\b\b\b\b\r5/5 [==============================] - 168s 33s/step - loss: 0.1558 - accuracy: 0.9403 - auc: 0.0000e+00 - recall: 0.9403 - precision: 1.0000 - specificity_at_sensitivity: 0.0000e+00 - sensitivity_at_specificity: 0.0000e+00 - false_negatives: 8.0000 - false_positives: 0.0000e+00 - true_negatives: 0.0000e+00 - true_positives: 126.0000 - val_loss: 0.0000e+00 - val_accuracy: 1.0000 - val_auc: 0.0000e+00 - val_recall: 1.0000 - val_precision: 1.0000 - val_specificity_at_sensitivity: 0.0000e+00 - val_sensitivity_at_specificity: 0.0000e+00 - val_false_negatives: 0.0000e+00 - val_false_positives: 0.0000e+00 - val_true_negatives: 0.0000e+00 - val_true_positives: 34.0000\n",
            "Epoch 2/10\n",
            "5/5 [==============================] - 147s 30s/step - loss: 0.0000e+00 - accuracy: 1.0000 - auc: 0.0000e+00 - recall: 1.0000 - precision: 1.0000 - specificity_at_sensitivity: 0.0000e+00 - sensitivity_at_specificity: 0.0000e+00 - false_negatives: 0.0000e+00 - false_positives: 0.0000e+00 - true_negatives: 0.0000e+00 - true_positives: 134.0000 - val_loss: 0.0000e+00 - val_accuracy: 1.0000 - val_auc: 0.0000e+00 - val_recall: 1.0000 - val_precision: 1.0000 - val_specificity_at_sensitivity: 0.0000e+00 - val_sensitivity_at_specificity: 0.0000e+00 - val_false_negatives: 0.0000e+00 - val_false_positives: 0.0000e+00 - val_true_negatives: 0.0000e+00 - val_true_positives: 34.0000\n",
            "Epoch 3/10\n",
            "5/5 [==============================] - 147s 30s/step - loss: 0.0000e+00 - accuracy: 1.0000 - auc: 0.0000e+00 - recall: 1.0000 - precision: 1.0000 - specificity_at_sensitivity: 0.0000e+00 - sensitivity_at_specificity: 0.0000e+00 - false_negatives: 0.0000e+00 - false_positives: 0.0000e+00 - true_negatives: 0.0000e+00 - true_positives: 134.0000 - val_loss: 0.0000e+00 - val_accuracy: 1.0000 - val_auc: 0.0000e+00 - val_recall: 1.0000 - val_precision: 1.0000 - val_specificity_at_sensitivity: 0.0000e+00 - val_sensitivity_at_specificity: 0.0000e+00 - val_false_negatives: 0.0000e+00 - val_false_positives: 0.0000e+00 - val_true_negatives: 0.0000e+00 - val_true_positives: 34.0000\n",
            "Epoch 4/10\n",
            "5/5 [==============================] - 148s 31s/step - loss: 0.0000e+00 - accuracy: 1.0000 - auc: 0.0000e+00 - recall: 1.0000 - precision: 1.0000 - specificity_at_sensitivity: 0.0000e+00 - sensitivity_at_specificity: 0.0000e+00 - false_negatives: 0.0000e+00 - false_positives: 0.0000e+00 - true_negatives: 0.0000e+00 - true_positives: 134.0000 - val_loss: 0.0000e+00 - val_accuracy: 1.0000 - val_auc: 0.0000e+00 - val_recall: 1.0000 - val_precision: 1.0000 - val_specificity_at_sensitivity: 0.0000e+00 - val_sensitivity_at_specificity: 0.0000e+00 - val_false_negatives: 0.0000e+00 - val_false_positives: 0.0000e+00 - val_true_negatives: 0.0000e+00 - val_true_positives: 34.0000\n"
          ]
        }
      ]
    },
    {
      "cell_type": "code",
      "source": [
        "model.evaluate(X_test,y_test)"
      ],
      "metadata": {
        "colab": {
          "base_uri": "https://localhost:8080/"
        },
        "id": "q-eSFt5WJsy3",
        "outputId": "f529075d-c237-422a-cbe2-e8cc6aefdc8c"
      },
      "execution_count": 25,
      "outputs": [
        {
          "output_type": "stream",
          "name": "stdout",
          "text": [
            "1/1 [==============================] - 4s 4s/step - loss: 0.0000e+00 - accuracy: 1.0000 - auc: 0.0000e+00 - recall: 1.0000 - precision: 1.0000 - specificity_at_sensitivity: 0.0000e+00 - sensitivity_at_specificity: 0.0000e+00 - false_negatives: 0.0000e+00 - false_positives: 0.0000e+00 - true_negatives: 0.0000e+00 - true_positives: 4.0000\n"
          ]
        },
        {
          "output_type": "execute_result",
          "data": {
            "text/plain": [
              "[0.0, 1.0, 0.0, 1.0, 1.0, 0.0, 0.0, 0.0, 0.0, 0.0, 4.0]"
            ]
          },
          "metadata": {},
          "execution_count": 25
        }
      ]
    },
    {
      "cell_type": "code",
      "source": [
        "import matplotlib.pyplot as plt\n",
        "acc = history.history['accuracy']\n",
        "val_acc= history.history['val_accuracy']\n",
        "loss = history.history['loss']\n",
        "val_loss = history.history['val_loss']\n",
        "\n",
        "epochs = range(len(acc))\n",
        "\n",
        "plt.plot(epochs,acc,'r',label=\"Training accuracy\")\n",
        "plt.plot(epochs,val_acc,'b',label=\"Validation accuracy\")\n",
        "plt.title('Training and Validation accuracy')\n",
        "plt.legend(loc=0)\n",
        "plt.figure()\n",
        "plt.show()\n",
        "\n",
        "plt.plot(epochs,loss,'r',label=\"Training loss\")\n",
        "plt.plot(epochs,val_loss,'b',label=\"Validation loss\")\n",
        "plt.title('Training and Validation loss')\n",
        "plt.legend(loc=0)\n",
        "plt.figure()\n",
        "plt.show()"
      ],
      "metadata": {
        "colab": {
          "base_uri": "https://localhost:8080/",
          "height": 923
        },
        "id": "bdihNdrPhO1M",
        "outputId": "ebb42795-9c1c-4688-9fd9-063edd35ae22"
      },
      "execution_count": 26,
      "outputs": [
        {
          "output_type": "display_data",
          "data": {
            "text/plain": [
              "<Figure size 640x480 with 1 Axes>"
            ],
            "image/png": "[encoded data removed]"
          },
          "metadata": {}
        },
        {
          "output_type": "display_data",
          "data": {
            "text/plain": [
              "<Figure size 640x480 with 0 Axes>"
            ]
          },
          "metadata": {}
        },
        {
          "output_type": "display_data",
          "data": {
            "text/plain": [
              "<Figure size 640x480 with 1 Axes>"
            ],
            "image/png": "[encoded data removed]"
          },
          "metadata": {}
        },
        {
          "output_type": "display_data",
          "data": {
            "text/plain": [
              "<Figure size 640x480 with 0 Axes>"
            ]
          },
          "metadata": {}
        }
      ]
    },
    {
      "cell_type": "code",
      "source": [
        "model.evaluate(X_test_combined,y_test_combined.astype('float32'))"
      ],
      "metadata": {
        "colab": {
          "base_uri": "https://localhost:8080/"
        },
        "id": "E7J8zO8Rh3ON",
        "outputId": "db90f7d5-c43c-4738-925c-f7ce85b8b2af"
      },
      "execution_count": 27,
      "outputs": [
        {
          "output_type": "stream",
          "name": "stdout",
          "text": [
            "1/1 [==============================] - 5s 5s/step - loss: 0.0000e+00 - accuracy: 1.0000 - auc: 0.0000e+00 - recall: 1.0000 - precision: 1.0000 - specificity_at_sensitivity: 0.0000e+00 - sensitivity_at_specificity: 0.0000e+00 - false_negatives: 0.0000e+00 - false_positives: 0.0000e+00 - true_negatives: 0.0000e+00 - true_positives: 8.0000\n"
          ]
        },
        {
          "output_type": "execute_result",
          "data": {
            "text/plain": [
              "[0.0, 1.0, 0.0, 1.0, 1.0, 0.0, 0.0, 0.0, 0.0, 0.0, 8.0]"
            ]
          },
          "metadata": {},
          "execution_count": 27
        }
      ]
    }
  ]
}